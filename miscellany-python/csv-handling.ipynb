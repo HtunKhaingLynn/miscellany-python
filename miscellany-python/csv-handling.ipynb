{
 "cells": [
  {
   "cell_type": "code",
   "execution_count": null,
   "metadata": {},
   "outputs": [],
   "source": [
    "import csv # import python csv module"
   ]
  },
  {
   "cell_type": "code",
   "execution_count": null,
   "metadata": {},
   "outputs": [],
   "source": [
    "# write a csv file \n",
    "\n",
    "header = ['Name', 'Age', 'Graduateed?']\n",
    "data = [['KoKo', 12, True], ['Ma Ma', 18, False], ['Aye Aye', 20, True]]\n",
    "with open('test.csv', 'w') as csv_file:\n",
    "    csv_writer = csv.writer(csv_file)\n",
    "    csv_writer.writerow(header)\n",
    "    csv_writer.writerow(['Su Su', 20, False])\n",
    "    csv_writer.writerow(['Mg Mg', 29, True])\n",
    "    csv_writer.writerows(data)"
   ]
  },
  {
   "cell_type": "code",
   "execution_count": null,
   "metadata": {},
   "outputs": [],
   "source": [
    "# read csv file \n",
    "\n",
    "rows = []\n",
    "with open('test.csv') as csv_file:\n",
    "    csv_reader = csv.reader(csv_file)\n",
    "    fields = next(csv_reader) # to read the first row(heading) and store it into a variable\n",
    "    for row in csv_reader: # reader obj is iterable\n",
    "        rows.append(row)\n",
    "print(csv_reader)\n",
    "print(fields)\n",
    "print(rows)"
   ]
  },
  {
   "cell_type": "code",
   "execution_count": null,
   "metadata": {},
   "outputs": [],
   "source": [
    "# append data \n",
    "\n",
    "appended_data = [['Mya Mya', 30, False], ['Aung Aung', 15, False]]\n",
    "with open('test.csv', 'a') as csv_file: # 'a' is used to append data to existing file\n",
    "    csv_writer = csv.writer(csv_file)\n",
    "    csv_writer.writerows(appended_data)"
   ]
  },
  {
   "cell_type": "code",
   "execution_count": null,
   "metadata": {},
   "outputs": [],
   "source": [
    "# working with dictionary \n",
    "heading = ['Name', 'Age', 'Grade']\n",
    "\n",
    "with open('work_with_dict.csv', 'w') as csv_file:\n",
    "    csv_writer = csv.DictWriter(csv_file, fieldnames=heading)\n",
    "    csv_writer.writeheader()\n",
    "    csv_writer.writerow({'Name' : 'KoKo', 'Age' : 12, 'Grade' : 6})\n",
    "    csv_writer.writerow({'Name' : 'MaMa', 'Age' : 15, 'Grade' : 9})\n",
    "    csv_writer.writerow({'Name' : 'KoKo', 'Age' : 16, 'Grade' : 10})\n"
   ]
  },
  {
   "cell_type": "code",
   "execution_count": null,
   "metadata": {},
   "outputs": [],
   "source": [
    "rows = []\n",
    "with open('work_with_dict.csv', 'r') as csv_file:\n",
    "    csv_reader = csv.reader(csv_file)\n",
    "    head = next(csv_reader)\n",
    "    for data in csv_reader:\n",
    "        rows.append(data)\n",
    "\n",
    "print(head)\n",
    "print(rows)"
   ]
  },
  {
   "cell_type": "code",
   "execution_count": null,
   "metadata": {},
   "outputs": [],
   "source": []
  }
 ],
 "metadata": {
  "interpreter": {
   "hash": "55d8cee22beaea9bf8c8c9f5d116a194d0209e02629c53897511eba8c8f89470"
  },
  "kernelspec": {
   "display_name": "Python 3.8.10 64-bit ('machine-learning': conda)",
   "name": "python3"
  },
  "language_info": {
   "codemirror_mode": {
    "name": "ipython",
    "version": 3
   },
   "file_extension": ".py",
   "mimetype": "text/x-python",
   "name": "python",
   "nbconvert_exporter": "python",
   "pygments_lexer": "ipython3",
   "version": "3.8.10"
  },
  "orig_nbformat": 4
 },
 "nbformat": 4,
 "nbformat_minor": 2
}