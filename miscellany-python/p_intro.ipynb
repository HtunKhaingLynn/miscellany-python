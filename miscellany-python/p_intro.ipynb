{
 "cells": [
  {
   "cell_type": "code",
   "execution_count": null,
   "metadata": {},
   "outputs": [],
   "source": [
    "import pandas as pd"
   ]
  },
  {
   "cell_type": "markdown",
   "metadata": {},
   "source": [
    "## Pandas has two core components (Series, DataFrame)"
   ]
  },
  {
   "cell_type": "code",
   "execution_count": null,
   "metadata": {},
   "outputs": [],
   "source": [
    "data = {\n",
    "    'sqft' : [500, 750, 1000, 1250],\n",
    "    'price' : [15000, 20000, 25000, 30000]\n",
    "}\n",
    "housing = pd.DataFrame(data) # default index"
   ]
  },
  {
   "cell_type": "code",
   "execution_count": null,
   "metadata": {},
   "outputs": [],
   "source": [
    "# using custom index \n",
    "housing = pd.DataFrame(data, index=['H001', 'H002', 'H003', 'H004']) \n",
    "housing"
   ]
  },
  {
   "cell_type": "code",
   "execution_count": null,
   "metadata": {},
   "outputs": [],
   "source": [
    "# use loc to get data from selected index \n",
    "housing.loc['H001']"
   ]
  },
  {
   "cell_type": "code",
   "execution_count": null,
   "metadata": {},
   "outputs": [],
   "source": [
    "# slicling \n",
    "housing.loc['H001':'H004']"
   ]
  },
  {
   "cell_type": "code",
   "execution_count": null,
   "metadata": {},
   "outputs": [],
   "source": [
    "# rename columns \n",
    "housing.rename(columns={'sqft' : 'Sqft', 'price' : 'Price'}, inplace=True) # inplace=True forces to change in original dataframe\n",
    "housing"
   ]
  },
  {
   "cell_type": "code",
   "execution_count": null,
   "metadata": {},
   "outputs": [],
   "source": [
    "# another way \n",
    "housing.columns = ['Size', '$']\n",
    "housing"
   ]
  },
  {
   "cell_type": "code",
   "execution_count": null,
   "metadata": {},
   "outputs": [],
   "source": [
    "housing.columns"
   ]
  },
  {
   "cell_type": "code",
   "execution_count": null,
   "metadata": {},
   "outputs": [],
   "source": [
    "# to look info of dataframe \n",
    "housing.info()"
   ]
  },
  {
   "cell_type": "code",
   "execution_count": null,
   "metadata": {},
   "outputs": [],
   "source": [
    "# to look shape \n",
    "housing.shape # shape is attribute. so it doesn't need ()"
   ]
  },
  {
   "cell_type": "code",
   "execution_count": null,
   "metadata": {},
   "outputs": [],
   "source": [
    "housing = housing.append({'Size' : 1500, '$' : 35000}, ignore_index=True) # appending accepts only ignore_index=True \n",
    "housing"
   ]
  },
  {
   "cell_type": "code",
   "execution_count": null,
   "metadata": {},
   "outputs": [],
   "source": [
    "# can append dataframe to dataframe \n",
    "more_housing = housing.append(other=housing, ignore_index=True)\n",
    "more_housing"
   ]
  },
  {
   "cell_type": "code",
   "execution_count": null,
   "metadata": {},
   "outputs": [],
   "source": [
    "# use head to see top 5 rows of dataframe by default\n",
    "more_housing.head(7)"
   ]
  },
  {
   "cell_type": "code",
   "execution_count": null,
   "metadata": {},
   "outputs": [],
   "source": [
    "# use tail to see last 5 rows of dataframe by default\n",
    "more_housing.tail()"
   ]
  },
  {
   "cell_type": "code",
   "execution_count": null,
   "metadata": {},
   "outputs": [],
   "source": [
    "# use describe to see summary of data distribution \n",
    "housing.describe()"
   ]
  },
  {
   "cell_type": "code",
   "execution_count": null,
   "metadata": {},
   "outputs": [],
   "source": [
    "# [] returns series, [[]] returns a dataframe \n",
    "housing['Size']"
   ]
  },
  {
   "cell_type": "code",
   "execution_count": null,
   "metadata": {},
   "outputs": [],
   "source": [
    "housing[['Size']]"
   ]
  }
 ],
 "metadata": {
  "interpreter": {
   "hash": "55d8cee22beaea9bf8c8c9f5d116a194d0209e02629c53897511eba8c8f89470"
  },
  "kernelspec": {
   "display_name": "Python 3.8.10 64-bit ('machine-learning': conda)",
   "name": "python3"
  },
  "language_info": {
   "name": "python",
   "version": ""
  },
  "orig_nbformat": 4
 },
 "nbformat": 4,
 "nbformat_minor": 2
}