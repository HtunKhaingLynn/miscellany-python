{
 "cells": [
  {
   "cell_type": "code",
   "execution_count": null,
   "metadata": {},
   "outputs": [],
   "source": [
    "# write only uses 'w', if you open a file that does not locate in your sys, it will returns I/O error\n",
    "file_obj = open('test.txt', 'w')\n",
    "file_obj.write('City \\n')\n",
    "file_obj.close()"
   ]
  },
  {
   "cell_type": "code",
   "execution_count": null,
   "metadata": {},
   "outputs": [],
   "source": [
    "# if we use 'w' on already located file, it will over write \n",
    "file_obj = open('test.txt', 'w')\n",
    "city_list = ['Yangon \\n', 'Mandalay \\n', 'Bagan \\n']\n",
    "file_obj.write('City \\n')\n",
    "file_obj.writelines(city_list) # uses writelines to write multiple lines\n",
    "file_obj.close()"
   ]
  },
  {
   "cell_type": "code",
   "execution_count": null,
   "metadata": {},
   "outputs": [],
   "source": [
    "# uses 'a' not to be over written\n",
    "file_obj = open('test.txt', 'a')\n",
    "file_obj.writelines('Thaton \\n')\n",
    "file_obj.close()"
   ]
  },
  {
   "cell_type": "code",
   "execution_count": null,
   "metadata": {},
   "outputs": [],
   "source": [
    "# read only uses 'r', if you open a file that does not locate in your sys, it will returns I/O error\n",
    "file_obj = open('test.txt', 'r')\n",
    "print(file_obj.read(2))\n",
    "file_obj.close()"
   ]
  },
  {
   "cell_type": "code",
   "execution_count": null,
   "metadata": {},
   "outputs": [],
   "source": [
    "file_obj = open('test.txt', 'r')\n",
    "print(file_obj.readline(2)) # it returns only one line if the parameter is long enough or longer. if not returns as many as parameter\n",
    "file_obj.close()"
   ]
  },
  {
   "cell_type": "code",
   "execution_count": null,
   "metadata": {},
   "outputs": [],
   "source": [
    "file_obj = open('test.txt', 'r')\n",
    "print(file_obj.readlines()) # returns a list\n",
    "file_obj.close()"
   ]
  },
  {
   "cell_type": "code",
   "execution_count": null,
   "metadata": {},
   "outputs": [],
   "source": [
    "# use 'w+' for both read and write mode (returns nothing) because pointer is at the end of file\n",
    "file_obj = open('test.txt', 'w+')\n",
    "city_list = ['Yangon \\n', 'Mandalay \\n', 'Bagan \\n']\n",
    "file_obj.write('City \\n')\n",
    "file_obj.writelines(city_list) # uses writelines to write multiple lines\n",
    "print(file_obj.read())\n",
    "file_obj.close()"
   ]
  },
  {
   "cell_type": "code",
   "execution_count": null,
   "metadata": {},
   "outputs": [],
   "source": [
    "file_obj = open('test.txt', 'w+')\n",
    "city_list = ['Yangon \\n', 'Mandalay \\n', 'Bagan \\n']\n",
    "file_obj.write('City \\n')\n",
    "file_obj.writelines(city_list) # uses writelines to write multiple lines\n",
    "file_obj.seek(0) # uses seek to write at the beginning of file\n",
    "print(file_obj.read())\n",
    "file_obj.close()"
   ]
  },
  {
   "cell_type": "code",
   "execution_count": null,
   "metadata": {},
   "outputs": [],
   "source": [
    "# 'a' is append. open file for writting. Create new file if not exist.\n",
    "# File pointer is placed at the end of file \n",
    "# data is written after existing data \n",
    "with open('test.txt', 'a') as f:\n",
    "    f.write('Mawlamyine \\n')\n",
    "\n",
    "with open('test.txt', 'r') as f:\n",
    "    print(f.read())"
   ]
  },
  {
   "cell_type": "code",
   "execution_count": null,
   "metadata": {},
   "outputs": [],
   "source": [
    "# 'a+' is for read / write\n",
    "with open('test.txt', 'a+') as f:\n",
    "    f.write('Japan \\n')\n",
    "    f.seek(0)\n",
    "    print(f.read())"
   ]
  },
  {
   "cell_type": "code",
   "execution_count": null,
   "metadata": {},
   "outputs": [],
   "source": [
    "with open('test.txt', 'a+') as testwritefile:\n",
    "    print(\"Initial Location: {}\".format(testwritefile.tell()))\n",
    "    \n",
    "    data = testwritefile.read()\n",
    "    print(data)\n",
    "    if (not data):  # empty strings return false in python\n",
    "            print('Read nothing') \n",
    "    else: \n",
    "            print(data)\n",
    "            \n",
    "    testwritefile.seek(0) # move 0 bytes from beginning.\n",
    "    \n",
    "    print(\"\\nNew Location : {}\".format(testwritefile.tell()))\n",
    "    data = testwritefile.read()\n",
    "    if (not data): \n",
    "            print('Read nothing') \n",
    "    else: \n",
    "            print(data)\n",
    "    \n",
    "    print(\"Location after read: {}\".format(testwritefile.tell()) )"
   ]
  },
  {
   "cell_type": "code",
   "execution_count": null,
   "metadata": {},
   "outputs": [],
   "source": []
  }
 ],
 "metadata": {
  "interpreter": {
   "hash": "55d8cee22beaea9bf8c8c9f5d116a194d0209e02629c53897511eba8c8f89470"
  },
  "kernelspec": {
   "display_name": "Python 3.8.10 64-bit ('machine-learning': conda)",
   "name": "python3"
  },
  "language_info": {
   "name": "python",
   "version": ""
  },
  "orig_nbformat": 4
 },
 "nbformat": 4,
 "nbformat_minor": 2
}